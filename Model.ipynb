{
 "cells": [
  {
   "cell_type": "markdown",
   "metadata": {},
   "source": [
    "# Y4 Project Test Runs"
   ]
  },
  {
   "cell_type": "markdown",
   "metadata": {},
   "source": [
    "### Manage imports"
   ]
  },
  {
   "cell_type": "code",
   "execution_count": 1,
   "metadata": {
    "collapsed": true
   },
   "outputs": [],
   "source": [
    "# Python libraries\n",
    "import time\n",
    "import numpy as np\n",
    "\n",
    "# Model classes\n",
    "import settings\n",
    "from params import Params\n",
    "from star import Star\n",
    "from planet import Planet\n",
    "from spot import Spot\n",
    "from system import System\n",
    "\n",
    "# Plotting\n",
    "import matplotlib.pyplot as plt\n",
    "\n",
    "# Eastman python implementation of Mandel & Agol (2002)\n",
    "import occultquad\n",
    "\n",
    "# Peak finding algorithm\n",
    "import peakdetect"
   ]
  },
  {
   "cell_type": "markdown",
   "metadata": {},
   "source": [
    "## Setup system parameters"
   ]
  },
  {
   "cell_type": "code",
   "execution_count": 2,
   "metadata": {
    "collapsed": true
   },
   "outputs": [],
   "source": [
    "# Initialise global variables\n",
    "settings.init()\n",
    "\n",
    "# Set up parameters\n",
    "params = Params()\n",
    "# Star params\n",
    "# Coefficients used from Claret (2000) in visible spectrum (V)\n",
    "# For a star similar to Sun (Teff = 5750, logg = 4.5, Metalicity = 0)\n",
    "params.prot = 24\n",
    "params.rad_star = 1\n",
    "params.sinc = 30\n",
    "params.res = 300\n",
    "params.u = [0.4442, 0.2861]\n",
    "params.high_band = [30, 45]\n",
    "params.low_band = [0, 15]\n",
    "params.stellar_cycle = 365#4015 # 11 years in days\n",
    "\n",
    "# Planet params\n",
    "params.rp = 0.1\n",
    "params.per = 12\n",
    "params.w = 90\n",
    "params.a = 15\n",
    "params.t0 = 3 # Transit after x days of simulation\n",
    "params.oinc = 90 # 90 = No impact param\n",
    "params.beta = 45 # 90 = Horizontal (Normal), 0 = Vertical\n",
    "\n",
    "# Spot params\n",
    "params.b = [0.1, 0.4]\n",
    "params.spot_rads = [0.03, 0.11]\n",
    "params.spot_lives = [80, 100]\n",
    "params.spot_asymmetry = 0.5\n",
    "params.nspots = 5\n",
    "\n",
    "# System params\n",
    "params.rotation_dt = 0.2\n",
    "params.transit_dt = 0.002\n",
    "params.adjustDistance = 1.5\n",
    "\n",
    "# Star\n",
    "star = Star(params)\n",
    "\n",
    "# Spots\n",
    "spots = [Spot.gen_spot(params, star, 0) for i in range(0, params.nspots)]\n",
    "star.addSpots(spots)\n",
    "\n",
    "# Planet\n",
    "planet = Planet(params)\n",
    "\n",
    "# System params: star, planet, params\n",
    "system = System(star, planet, params)"
   ]
  },
  {
   "cell_type": "markdown",
   "metadata": {},
   "source": [
    "## Run simulations"
   ]
  },
  {
   "cell_type": "code",
   "execution_count": 3,
   "metadata": {},
   "outputs": [
    {
     "name": "stdout",
     "output_type": "stream",
     "text": [
      "Simulation 0% complete\n",
      "Simulation 10% complete\n",
      "Simulation 20% complete\n",
      "Simulation 30% complete\n",
      "Simulation 40% complete\n",
      "Simulation 50% complete\n",
      "Simulation 60% complete\n",
      "Simulation 70% complete\n",
      "Simulation 80% complete\n",
      "Simulation 90% complete\n",
      "Took 2358.2775180339813 seconds for spotted light curve generation\n",
      "Simulation 0% complete\n",
      "Simulation 10% complete\n",
      "Simulation 20% complete\n",
      "Simulation 30% complete\n",
      "Simulation 40% complete\n",
      "Simulation 50% complete\n",
      "Simulation 60% complete\n",
      "Simulation 70% complete\n",
      "Simulation 80% complete\n",
      "Simulation 90% complete\n",
      "Took 666.8685858249664 seconds for spotless light curve generation\n"
     ]
    }
   ],
   "source": [
    "dur =  2*365 # days\n",
    "\n",
    "# With spots\n",
    "start = time.time()\n",
    "I, D, Time, TTimes, SAR = system.simulate(dur, False, 10)\n",
    "end = time.time()\n",
    "print('Took {0} seconds for spotted light curve generation'.format(end-start))\n",
    "\n",
    "# With no spots\n",
    "system.star = Star(params)\n",
    "start = time.time()\n",
    "I_none, D_none, _,_,_ = system.simulate(dur, False, 10)\n",
    "end = time.time()\n",
    "print('Took {0} seconds for spotless light curve generation'.format(end-start))"
   ]
  },
  {
   "cell_type": "markdown",
   "metadata": {},
   "source": [
    "## Plot Light Curves"
   ]
  },
  {
   "cell_type": "code",
   "execution_count": null,
   "metadata": {},
   "outputs": [],
   "source": [
    "plt.figure(figsize=(30,10))\n",
    "plt.plot(Time, I, 'k', label='Spotted Model')\n",
    "plt.plot(Time, I_none, 'b', label='Spotted Model')\n",
    "plt.ylabel('Normalised Flux', fontsize= 30)\n",
    "plt.xlabel('Time [days]', fontsize=30)\n",
    "plt.title(r'Simulated light curve', fontsize=30)\n",
    "plt.grid()\n",
    "plt.legend(fontsize=20)\n",
    "plt.xlim([TTimes[0][0]-1, TTimes[0][1]+1])\n",
    "plt.xticks(fontsize=25)\n",
    "plt.yticks(fontsize=25)\n",
    "plt.show()"
   ]
  },
  {
   "cell_type": "markdown",
   "metadata": {},
   "source": [
    "### Plot Phase Folded Light Curve"
   ]
  },
  {
   "cell_type": "code",
   "execution_count": null,
   "metadata": {},
   "outputs": [],
   "source": [
    "foldPhases = (np.asarray(Time) - params.t0) / params.per\n",
    "foldPhases = foldPhases - np.round(foldPhases)\n",
    "foldTimes = foldPhases*params.per*24\n",
    "traWidth = (TTimes[0][1] - TTimes[0][0] + 0.1)*24\n",
    "plt.figure(figsize = (15,15))\n",
    "plt.plot(foldTimes, I, 'k.', ms=5, label='Spotted Curves')\n",
    "plt.plot(foldTimes, I_none, 'r.', label='Spotless Curve')\n",
    "plt.ylabel('Normalised Flux', fontsize= 25)\n",
    "plt.xlabel('Time from mid transit [hours]', fontsize=25)\n",
    "plt.title(r'Phase folded light curve', fontsize=25)\n",
    "plt.xticks(fontsize=15)\n",
    "plt.yticks(fontsize=15)\n",
    "plt.legend(fontsize=30, loc='upper center')\n",
    "plt.xlim([-traWidth/2, traWidth/2])\n",
    "plt.grid()\n",
    "plt.show()"
   ]
  },
  {
   "cell_type": "markdown",
   "metadata": {},
   "source": [
    "### Compare to Mandel & Agol (2002)"
   ]
  },
  {
   "cell_type": "code",
   "execution_count": null,
   "metadata": {},
   "outputs": [],
   "source": [
    "z = np.asarray([planet.r_skyAtTime(t) for t in Time])\n",
    "ans = occultquad.occultquad(z,params.u[0],params.u[1],params.rp)\n",
    "I_MA = ans[0]\n",
    "transitNumber = 0\n",
    "correctedTimes = np.asarray(Time) - params.t0\n",
    "correctedTTimes = np.asarray(TTimes) - params.t0\n",
    "\n",
    "fig, axes = plt.subplots(2,1, figsize = (15,15), gridspec_kw = {'height_ratios':[3, 1]})\n",
    "axes[0].plot(correctedTimes, I_MA, 'k--', lw=3, label='Theoretical')\n",
    "axes[0].plot(correctedTimes, I_none, 'r', label='Spotless Model')\n",
    "axes[0].set_title('Comparison between results of the model and theoretical results', fontsize=25)\n",
    "axes[0].set_ylabel('Normalised Flux', fontsize= 30)\n",
    "axes[0].set_xlabel('Time from midtransit [days]', fontsize=25)\n",
    "axes[0].legend(fontsize=25)\n",
    "axes[0].tick_params(labelsize=15)\n",
    "axes[0].grid()\n",
    "axes[0].set_xlim([correctedTTimes[transitNumber][0]-0.1, correctedTTimes[transitNumber][1]+0.1])\n",
    "\n",
    "ppm = 1e-6\n",
    "axes[1].plot(correctedTimes, (np.asarray(I_none) - I_MA)/ppm, 'r--')\n",
    "axes[1].set_xlabel('Time from midtransit [days]', fontsize=25)\n",
    "axes[1].set_ylabel('Residuals (ppm)', fontsize = 25)\n",
    "axes[1].set_xlim([correctedTTimes[transitNumber][0]-0.1, correctedTTimes[transitNumber][1]+0.1])\n",
    "axes[1].grid()\n",
    "axes[1].tick_params(labelsize=15)\n",
    "plt.show()"
   ]
  },
  {
   "cell_type": "markdown",
   "metadata": {},
   "source": [
    "### Re-plot with assumed 150ppm noise"
   ]
  },
  {
   "cell_type": "code",
   "execution_count": null,
   "metadata": {},
   "outputs": [],
   "source": [
    "noiseLevel = 100*ppm\n",
    "noise = np.random.normal(1,noiseLevel,len(I))\n",
    "I_noise = noise*np.asarray(I)\n",
    "D_noise = noise*np.asarray(D)\n",
    "\n",
    "transitNumber = 37\n",
    "plt.figure(figsize=(15,5))\n",
    "plt.plot(Time, I, 'k', label='Spotted Model')\n",
    "plt.plot(Time, I_none, 'b', label='Spotless Model')\n",
    "plt.plot(Time, I, 'k.', ms=2, label='Spotted Model + 150ppm Noise')\n",
    "plt.ylabel('Normalised Flux', fontsize=20)\n",
    "plt.xlabel('Time [days]', fontsize=20)\n",
    "plt.title(r'Simulated light curve with added noise', fontsize=20)\n",
    "#plt.legend(fontsize=50)\n",
    "plt.xticks(fontsize=20)\n",
    "plt.yticks(fontsize=20)\n",
    "plt.xlim([TTimes[transitNumber][0]-0.1, TTimes[transitNumber][1]+0.1])\n",
    "plt.grid()\n",
    "plt.show()"
   ]
  },
  {
   "cell_type": "markdown",
   "metadata": {},
   "source": [
    "### Spot correction and residuals"
   ]
  },
  {
   "cell_type": "code",
   "execution_count": null,
   "metadata": {},
   "outputs": [],
   "source": [
    "transitNumber = 60\n",
    "idx1 = np.where(Time == np.asarray(TTimes)[transitNumber][0])[0][0]\n",
    "idx2 = np.where(Time == np.asarray(TTimes)[transitNumber][1])[0][0]\n",
    "offset1 = 1-I[idx1]\n",
    "offset2 = 1-I[idx2]\n",
    "offset = np.abs(offset1 + offset2)/2\n",
    "print(offset)\n",
    "I_corrected = np.asarray(I) + offset\n",
    "I_corrected_noise = np.asarray(I_noise) + offset\n",
    "\n",
    "fig, axes = plt.subplots(2,1, figsize = (15,15), gridspec_kw = {'height_ratios':[3, 1]})\n",
    "axes[0].plot(Time, I_none, 'r', label='Spotless Model')\n",
    "axes[0].plot(Time, I_corrected, 'b', label='Spotted Model')\n",
    "axes[0].plot(Time, I_corrected_noise, 'k.', label='Spotted Model + 150ppm Noise')\n",
    "axes[0].set_title('Spot correction technique', fontsize=35)\n",
    "axes[0].set_ylabel('Normalised Flux', fontsize= 30)\n",
    "#axes[0].set_xlabel('Time [days]', fontsize=25)\n",
    "axes[0].legend(fontsize=25, loc='upper center')\n",
    "axes[0].tick_params(labelsize=15)\n",
    "axes[0].grid()\n",
    "axes[0].set_xlim([TTimes[transitNumber][0]-0.02, TTimes[transitNumber][1]+0.02])\n",
    "axes[0].set_ylim([0.985, 1.001])\n",
    "\n",
    "axes[1].plot(Time, (I_corrected_noise - np.asarray(I_none))/ppm, 'k.')\n",
    "axes[1].plot(Time, (I_corrected - np.asarray(I_none))/ppm, 'r')\n",
    "axes[1].set_xlabel('Time [days]', fontsize=25)\n",
    "axes[1].set_ylabel('Residuals (ppm)', fontsize = 25)\n",
    "axes[1].set_xlim(TTimes[transitNumber])\n",
    "axes[1].set_ylim([-300,2100])\n",
    "axes[1].grid()\n",
    "axes[1].tick_params(labelsize=12)\n",
    "plt.show()"
   ]
  },
  {
   "cell_type": "markdown",
   "metadata": {},
   "source": [
    "### Re-plot phase folded light curve with spot corrected residuals"
   ]
  },
  {
   "cell_type": "code",
   "execution_count": null,
   "metadata": {},
   "outputs": [],
   "source": [
    "I_corrected_noise = np.asarray(I_noise)\n",
    "I_res_noise = (I_noise - np.asarray(I_none))/ppm\n",
    "shift = 0#(int)(0.1/params.transit_dt)\n",
    "for tNum in range(len(TTimes)):\n",
    "        idx1 = np.where(Time == (np.asarray(TTimes)[tNum][0]))[0][0]\n",
    "        idx2 = np.where(Time == (np.asarray(TTimes)[tNum][1]))[0][0]\n",
    "        offset1 = 1-I[idx1]\n",
    "        offset2 = 1-I[idx2]\n",
    "        offset = np.abs(offset1 + offset2)/2\n",
    "        I_corrected_noise[idx1-shift:idx2+shift] = np.asarray(I_noise[idx1-shift:idx2+shift]) + offset\n",
    "        I_res_noise[idx1-shift:idx2+shift] = (I_corrected_noise[idx1-shift:idx2+shift] - np.asarray(I_none[idx1-shift:idx2+shift]))/ppm\n",
    "\n",
    "fig, axes = plt.subplots(2,1, figsize = (15,15), gridspec_kw = {'height_ratios':[3, 1]})\n",
    "axes[0].plot(foldTimes, I_corrected_noise, 'k.', ms=5, label='Spotted Curves')\n",
    "axes[0].plot(foldTimes, I_none, 'r.', label='Spotless Curve')\n",
    "axes[0].set_ylabel('Normalised Flux', fontsize= 25)\n",
    "axes[0].set_title(r'Corrected Phase folded light curve', fontsize=25)\n",
    "axes[0].tick_params(labelsize=15)\n",
    "axes[0].legend(fontsize=30, loc='upper center')\n",
    "axes[0].set_xlim([-traWidth/2+0.05*24, traWidth/2-0.05*24])\n",
    "axes[0].grid()\n",
    "\n",
    "\n",
    "axes[1].plot(foldTimes, I_res_noise, 'k.', ms=2)\n",
    "axes[1].plot(foldTimes, np.zeros(len(I)), 'r')\n",
    "axes[1].set_xlabel('Time from mid transit [hours]', fontsize=25)\n",
    "axes[1].set_ylabel('Residuals', fontsize = 20)\n",
    "axes[1].tick_params(labelsize=15)\n",
    "axes[1].set_xlim([-traWidth/2+0.05*24, traWidth/2-0.05*24])\n",
    "axes[1].set_ylim([-500,5000])\n",
    "axes[1].grid()\n",
    "\n",
    "plt.show()"
   ]
  },
  {
   "cell_type": "markdown",
   "metadata": {},
   "source": [
    "### Plot transit residuals using D and find error in time resolution"
   ]
  },
  {
   "cell_type": "code",
   "execution_count": null,
   "metadata": {},
   "outputs": [],
   "source": [
    "residuals = np.asarray(D_none) - np.asarray(D_noise)\n",
    "peaks = peakdetect.peakdetect(residuals, Time, 1, noiseLevel)[0]\n",
    "\n",
    "plt.figure(figsize=(15,15))\n",
    "plt.plot(Time, residuals/ppm, 'r', label=r'Residuals with marked bump height, $S_h$')\n",
    "\n",
    "widths = []\n",
    "if len(peaks) >= 1:\n",
    "    t_max, d_max = zip(*peaks)\n",
    "    \n",
    "    for (t, d) in zip(t_max, d_max):\n",
    "        plt.text(t, d/ppm,'{0:.5g}'.format(d/ppm), fontsize=12, verticalalignment='bottom', horizontalalignment='center', bbox=dict(boxstyle='round', facecolor='w', alpha=0.7))\n",
    "        \n",
    "        # Find widths of peaks\n",
    "        # Go right\n",
    "        counter = 100\n",
    "        idx = np.argwhere(Time == t)[0][0]\n",
    "        while(counter > noiseLevel):\n",
    "            idx += 1\n",
    "            counter = residuals[idx]\n",
    "        t_high = Time[idx]\n",
    "        \n",
    "        # Go left\n",
    "        counter = 100\n",
    "        idx = np.argwhere(Time == t)[0][0]\n",
    "        while(counter > noiseLevel):\n",
    "            idx -= 1\n",
    "            counter = residuals[idx]\n",
    "        t_low = Time[idx]\n",
    "        widths.append(t_high-t_low)\n",
    "else:\n",
    "    print('No spots detected')\n",
    "\n",
    "errorInTime = np.mean(np.asarray(widths)/2)\n",
    "print('Error in time:',errorInTime)\n",
    "plt.ylabel('Residuals from unspotted transit (ppm)', fontsize=20)\n",
    "plt.xlabel('Time (days)', fontsize=20)\n",
    "plt.title(r'Planet transit residuals', fontsize=30)\n",
    "plt.legend(fontsize=20)\n",
    "plt.xticks(fontsize=15)\n",
    "plt.yticks(fontsize=15)\n",
    "plt.show()"
   ]
  },
  {
   "cell_type": "markdown",
   "metadata": {},
   "source": [
    "### Generate and plot Butterfly diagram"
   ]
  },
  {
   "cell_type": "code",
   "execution_count": null,
   "metadata": {
    "collapsed": true
   },
   "outputs": [],
   "source": [
    "# Get found spots, simulated spots and closest matched spots\n",
    "fs, rs, ms = system.butterfly(residuals, noiseLevel, Time, errorInTime, TTimes)"
   ]
  },
  {
   "cell_type": "code",
   "execution_count": null,
   "metadata": {},
   "outputs": [],
   "source": [
    "### OneDayInYears = 0.00273973\n",
    "# Extract wanted variables\n",
    "fs_lats = [s.coords[1] for s in fs]\n",
    "fs_times = [s.timeFound*OneDayInYears for s in fs]\n",
    "fs_lat_error = np.mean(np.asarray([s.latWidth for s in fs])/2)\n",
    "rs_lats = [s.coords[1] for s in rs]\n",
    "rs_times = [s.timeFound*OneDayInYears for s in rs]\n",
    "ms_lats = [s.coords[1] for s in ms]\n",
    "ms_times = [s.timeFound*OneDayInYears for s in ms]\n",
    "\n",
    "# Calculated active bands\n",
    "activeBandLines, activeTimes = zip(*SAR)\n",
    "activeTimes = np.asarray(activeTimes)*OneDayInYears\n",
    "lowBandLine, highBandLine = zip(*activeBandLines)\n",
    "\n",
    "plt.figure(figsize=(35,15))\n",
    "\n",
    "print('Error in latitude due to time:',fs_lat_error)\n",
    "\n",
    "# Plot spots\n",
    "#plt.errorbar(fs_times, fs_lats, xerr=errorInTime*OneDayInYears, yerr=fs_lat_error, c='r', marker='o', fmt='o', capsize=5, label='Spot Anomalies')\n",
    "plt.scatter(fs_times, fs_lats, c='r', marker='o', label='Spot Anomalies')\n",
    "#plt.scatter(rs_times, rs_lats, 5, c='k', marker='.', alpha=0.7, label='Simulated Spots')\n",
    "#plt.scatter(ms_times, ms_lats, 35, c='hotpink', marker='o', label='Estimated Matches')\n",
    "# Plt active regions\n",
    "#plt.plot(activeTimes, lowBandLine, 'orange')\n",
    "#plt.plot(activeTimes, highBandLine, 'orange')\n",
    "#plt.plot(activeTimes, -1*np.asarray(lowBandLine), 'orange')\n",
    "#plt.plot(activeTimes, -1*np.asarray(highBandLine), 'orange')\n",
    "#plt.fill_between(activeTimes, lowBandLine, highBandLine, color='orange', alpha=0.5, label='Active region')\n",
    "#plt.fill_between(activeTimes, -1*np.asarray(lowBandLine), -1*np.asarray(highBandLine), color='orange', alpha=0.5)\n",
    "# Plot params\n",
    "plt.title(r'Butterfly Diagram', fontsize=40)\n",
    "plt.xlabel('Time [years]', fontsize=30)\n",
    "plt.ylabel('Latitude [deg]', fontsize=30)\n",
    "plt.yticks(fontsize=25)\n",
    "plt.xticks(fontsize=25)\n",
    "plt.ylim([-90,90])\n",
    "plt.grid()\n",
    "plt.legend(fontsize=30)\n",
    "plt.show()"
   ]
  }
 ],
 "metadata": {
  "kernelspec": {
   "display_name": "Python 3",
   "language": "python",
   "name": "python3"
  },
  "language_info": {
   "codemirror_mode": {
    "name": "ipython",
    "version": 3
   },
   "file_extension": ".py",
   "mimetype": "text/x-python",
   "name": "python",
   "nbconvert_exporter": "python",
   "pygments_lexer": "ipython3",
   "version": "3.6.2"
  }
 },
 "nbformat": 4,
 "nbformat_minor": 2
}
